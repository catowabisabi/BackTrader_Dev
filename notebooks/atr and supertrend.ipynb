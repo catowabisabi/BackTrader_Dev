{
 "cells": [
  {
   "cell_type": "code",
   "execution_count": 13,
   "metadata": {},
   "outputs": [],
   "source": [
    "def tr(previous_close, high, low):\n",
    "    price_diff_1 = abs(high - low)\n",
    "    price_diff_2 = abs(high - previous_close)\n",
    "    price_diff_3 = abs(low - previous_close)\n",
    "\n",
    "    tr = max (price_diff_1, price_diff_2, price_diff_3)\n",
    "\n",
    "    return tr"
   ]
  },
  {
   "cell_type": "code",
   "execution_count": 14,
   "metadata": {},
   "outputs": [
    {
     "data": {
      "text/plain": [
       "43"
      ]
     },
     "execution_count": 14,
     "metadata": {},
     "output_type": "execute_result"
    }
   ],
   "source": [
    "tr = tr(175, \\\n",
    "    135, 132)\n",
    "tr"
   ]
  },
  {
   "cell_type": "code",
   "execution_count": 15,
   "metadata": {},
   "outputs": [],
   "source": [
    "import backtrader as bt\n",
    "import yfinance as yf\n",
    "#from strategies.my_indicators.SuperTrend import SuperTrend, SuperTrendBand\n",
    "\n",
    "tr_list = [4, 18, 18, 32, 29, 19, 4, 2 ]\n",
    "#atr = bt.indicators.ATR(tr_list, period=7)\n",
    "\n"
   ]
  },
  {
   "cell_type": "code",
   "execution_count": 16,
   "metadata": {},
   "outputs": [
    {
     "name": "stdout",
     "output_type": "stream",
     "text": [
      "[*********************100%***********************]  1 of 1 completed\n"
     ]
    }
   ],
   "source": [
    "cerebro = bt.Cerebro()\n",
    "df = yf.download(\"TSLA\", start = \"2020-01-01\")\n",
    "feed = bt.feeds.PandasData(dataname = df)\n",
    "feed.addfilter(bt.filters.HeikinAshi(feed))\n",
    "\n",
    "#tr_list = [4, 18, 18, 32, 29, 19, 4, 2 ]\n",
    "\n",
    "\n",
    "\n",
    "#atr = bt.indicators.ATR(feed, period=7)\n",
    "#st = SuperTrendBand(feed, period = 7, multiplier = 3)\n",
    "\n"
   ]
  },
  {
   "cell_type": "code",
   "execution_count": null,
   "metadata": {},
   "outputs": [],
   "source": []
  },
  {
   "cell_type": "code",
   "execution_count": 17,
   "metadata": {},
   "outputs": [],
   "source": [
    "def tr(previous_close, high, low):\n",
    "    price_diff_1 = abs(high - low)\n",
    "    price_diff_2 = abs(high - previous_close)\n",
    "    price_diff_3 = abs(low - previous_close)\n",
    "\n",
    "    tr = max (price_diff_1, price_diff_2, price_diff_3)\n",
    "    return tr"
   ]
  },
  {
   "cell_type": "code",
   "execution_count": 52,
   "metadata": {},
   "outputs": [
    {
     "data": {
      "text/html": [
       "<div>\n",
       "<style scoped>\n",
       "    .dataframe tbody tr th:only-of-type {\n",
       "        vertical-align: middle;\n",
       "    }\n",
       "\n",
       "    .dataframe tbody tr th {\n",
       "        vertical-align: top;\n",
       "    }\n",
       "\n",
       "    .dataframe thead th {\n",
       "        text-align: right;\n",
       "    }\n",
       "</style>\n",
       "<table border=\"1\" class=\"dataframe\">\n",
       "  <thead>\n",
       "    <tr style=\"text-align: right;\">\n",
       "      <th></th>\n",
       "      <th>Open</th>\n",
       "      <th>High</th>\n",
       "      <th>Low</th>\n",
       "      <th>Close</th>\n",
       "      <th>Adj Close</th>\n",
       "      <th>Volume</th>\n",
       "    </tr>\n",
       "    <tr>\n",
       "      <th>Date</th>\n",
       "      <th></th>\n",
       "      <th></th>\n",
       "      <th></th>\n",
       "      <th></th>\n",
       "      <th></th>\n",
       "      <th></th>\n",
       "    </tr>\n",
       "  </thead>\n",
       "  <tbody>\n",
       "    <tr>\n",
       "      <th>2022-07-15</th>\n",
       "      <td>720.000000</td>\n",
       "      <td>730.869995</td>\n",
       "      <td>710.669983</td>\n",
       "      <td>720.200012</td>\n",
       "      <td>720.200012</td>\n",
       "      <td>23165500</td>\n",
       "    </tr>\n",
       "    <tr>\n",
       "      <th>2022-07-14</th>\n",
       "      <td>704.690002</td>\n",
       "      <td>715.960022</td>\n",
       "      <td>688.000000</td>\n",
       "      <td>714.940002</td>\n",
       "      <td>714.940002</td>\n",
       "      <td>26185800</td>\n",
       "    </tr>\n",
       "    <tr>\n",
       "      <th>2022-07-13</th>\n",
       "      <td>676.500000</td>\n",
       "      <td>726.179993</td>\n",
       "      <td>675.099976</td>\n",
       "      <td>711.119995</td>\n",
       "      <td>711.119995</td>\n",
       "      <td>32651500</td>\n",
       "    </tr>\n",
       "    <tr>\n",
       "      <th>2022-07-12</th>\n",
       "      <td>710.539978</td>\n",
       "      <td>719.320007</td>\n",
       "      <td>685.109985</td>\n",
       "      <td>699.210022</td>\n",
       "      <td>699.210022</td>\n",
       "      <td>29310300</td>\n",
       "    </tr>\n",
       "    <tr>\n",
       "      <th>2022-07-11</th>\n",
       "      <td>756.309998</td>\n",
       "      <td>759.190002</td>\n",
       "      <td>700.880005</td>\n",
       "      <td>703.030029</td>\n",
       "      <td>703.030029</td>\n",
       "      <td>33080400</td>\n",
       "    </tr>\n",
       "    <tr>\n",
       "      <th>...</th>\n",
       "      <td>...</td>\n",
       "      <td>...</td>\n",
       "      <td>...</td>\n",
       "      <td>...</td>\n",
       "      <td>...</td>\n",
       "      <td>...</td>\n",
       "    </tr>\n",
       "    <tr>\n",
       "      <th>2020-01-08</th>\n",
       "      <td>94.739998</td>\n",
       "      <td>99.697998</td>\n",
       "      <td>93.646004</td>\n",
       "      <td>98.428001</td>\n",
       "      <td>98.428001</td>\n",
       "      <td>155721500</td>\n",
       "    </tr>\n",
       "    <tr>\n",
       "      <th>2020-01-07</th>\n",
       "      <td>92.279999</td>\n",
       "      <td>94.325996</td>\n",
       "      <td>90.671997</td>\n",
       "      <td>93.811996</td>\n",
       "      <td>93.811996</td>\n",
       "      <td>89410500</td>\n",
       "    </tr>\n",
       "    <tr>\n",
       "      <th>2020-01-06</th>\n",
       "      <td>88.094002</td>\n",
       "      <td>90.311996</td>\n",
       "      <td>88.000000</td>\n",
       "      <td>90.307999</td>\n",
       "      <td>90.307999</td>\n",
       "      <td>50665000</td>\n",
       "    </tr>\n",
       "    <tr>\n",
       "      <th>2020-01-03</th>\n",
       "      <td>88.099998</td>\n",
       "      <td>90.800003</td>\n",
       "      <td>87.384003</td>\n",
       "      <td>88.601997</td>\n",
       "      <td>88.601997</td>\n",
       "      <td>88892500</td>\n",
       "    </tr>\n",
       "    <tr>\n",
       "      <th>2020-01-02</th>\n",
       "      <td>84.900002</td>\n",
       "      <td>86.139999</td>\n",
       "      <td>84.342003</td>\n",
       "      <td>86.052002</td>\n",
       "      <td>86.052002</td>\n",
       "      <td>47660500</td>\n",
       "    </tr>\n",
       "  </tbody>\n",
       "</table>\n",
       "<p>639 rows × 6 columns</p>\n",
       "</div>"
      ],
      "text/plain": [
       "                  Open        High         Low       Close   Adj Close  \\\n",
       "Date                                                                     \n",
       "2022-07-15  720.000000  730.869995  710.669983  720.200012  720.200012   \n",
       "2022-07-14  704.690002  715.960022  688.000000  714.940002  714.940002   \n",
       "2022-07-13  676.500000  726.179993  675.099976  711.119995  711.119995   \n",
       "2022-07-12  710.539978  719.320007  685.109985  699.210022  699.210022   \n",
       "2022-07-11  756.309998  759.190002  700.880005  703.030029  703.030029   \n",
       "...                ...         ...         ...         ...         ...   \n",
       "2020-01-08   94.739998   99.697998   93.646004   98.428001   98.428001   \n",
       "2020-01-07   92.279999   94.325996   90.671997   93.811996   93.811996   \n",
       "2020-01-06   88.094002   90.311996   88.000000   90.307999   90.307999   \n",
       "2020-01-03   88.099998   90.800003   87.384003   88.601997   88.601997   \n",
       "2020-01-02   84.900002   86.139999   84.342003   86.052002   86.052002   \n",
       "\n",
       "               Volume  \n",
       "Date                   \n",
       "2022-07-15   23165500  \n",
       "2022-07-14   26185800  \n",
       "2022-07-13   32651500  \n",
       "2022-07-12   29310300  \n",
       "2022-07-11   33080400  \n",
       "...               ...  \n",
       "2020-01-08  155721500  \n",
       "2020-01-07   89410500  \n",
       "2020-01-06   50665000  \n",
       "2020-01-03   88892500  \n",
       "2020-01-02   47660500  \n",
       "\n",
       "[639 rows x 6 columns]"
      ]
     },
     "execution_count": 52,
     "metadata": {},
     "output_type": "execute_result"
    }
   ],
   "source": [
    "import pandas as pd\n",
    "#df[\"Date\"] = pd.to_datetime(df[\"Date\"])\n",
    "df = df.sort_values(by=\"Date\", ascending=False)\n",
    "\n",
    "df"
   ]
  },
  {
   "cell_type": "code",
   "execution_count": 45,
   "metadata": {},
   "outputs": [
    {
     "data": {
      "text/plain": [
       "27.96002197265625"
      ]
     },
     "execution_count": 45,
     "metadata": {},
     "output_type": "execute_result"
    }
   ],
   "source": [
    "df[\"Close\"][1]-df[\"Low\"][0]\n",
    "df[\"High\"][1]-df[\"Low\"][1]"
   ]
  },
  {
   "cell_type": "code",
   "execution_count": 46,
   "metadata": {},
   "outputs": [
    {
     "data": {
      "text/plain": [
       "[27.96002197265625,\n",
       " 51.08001708984375,\n",
       " 34.21002197265625,\n",
       " 58.30999755859375,\n",
       " 41.46002197265625,\n",
       " 40.8900146484375,\n",
       " 22.1300048828125,\n",
       " 50.94000244140625,\n",
       " 24.33001708984375,\n",
       " 31.77996826171875]"
      ]
     },
     "execution_count": 46,
     "metadata": {},
     "output_type": "execute_result"
    }
   ],
   "source": [
    "atr_period = 10\n",
    "true_range = []\n",
    "previous_true_range = []\n",
    "for i in range (0, atr_period):\n",
    "    true_range.append (tr(  previous_close  = df[\"Close\"][i+1],   \\\n",
    "                            high            = df[\"High\"][i],     \\\n",
    "                            low             = df[\"Low\"][i],           ))\n",
    "    previous_true_range.append (tr(     previous_close  = df[\"Close\"][i+2],   \\\n",
    "                                        high            = df[\"High\"][i+1],     \\\n",
    "                                        low             = df[\"Low\"][i+1],           ))\n",
    "previous_true_range\n",
    "\n"
   ]
  },
  {
   "cell_type": "code",
   "execution_count": 47,
   "metadata": {},
   "outputs": [],
   "source": [
    "\n",
    "def atr(data, period):\n",
    "    sum_tr = 0\n",
    "    for i in range(0,period):\n",
    "        sum_tr += data[i]\n",
    "\n",
    "    atr = sum_tr/period\n",
    "    return atr"
   ]
  },
  {
   "cell_type": "code",
   "execution_count": 48,
   "metadata": {},
   "outputs": [
    {
     "data": {
      "text/plain": [
       "37.15101318359375"
      ]
     },
     "execution_count": 48,
     "metadata": {},
     "output_type": "execute_result"
    }
   ],
   "source": [
    "current_atr = atr(true_range, atr_period)\n",
    "previous_atr = atr(previous_true_range, atr_period)\n",
    "current_atr"
   ]
  },
  {
   "cell_type": "code",
   "execution_count": 49,
   "metadata": {},
   "outputs": [
    {
     "data": {
      "text/plain": [
       "720.7699890136719"
      ]
     },
     "execution_count": 49,
     "metadata": {},
     "output_type": "execute_result"
    }
   ],
   "source": [
    "hl2 = (df['High'][0] + df['Low'][0]) / 2\n",
    "hl2"
   ]
  },
  {
   "cell_type": "code",
   "execution_count": 50,
   "metadata": {},
   "outputs": [
    {
     "data": {
      "text/plain": [
       "605.8429626464844"
      ]
     },
     "execution_count": 50,
     "metadata": {},
     "output_type": "execute_result"
    }
   ],
   "source": [
    "# 計算現時的 SuperTrend\n",
    "def supertrend(df, period=7, atr_multiplier=3):\n",
    "    hl2 = (df['High'][0] + df['Low'][0]) / 2\n",
    "\n",
    "    current_atr = atr(true_range, atr_period)\n",
    "\n",
    "    current_upperband   = hl2 + (atr_multiplier * current_atr)\n",
    "    previous_upperband  = hl2 + (atr_multiplier * previous_atr)\n",
    "\n",
    "    current_lowerband   = hl2 - (atr_multiplier * current_atr)\n",
    "    previous_lowerband  = hl2 - (atr_multiplier * previous_atr)\n",
    "\n",
    "    current_in_uptrend  = True\n",
    "    previous_in_uptrend = True\n",
    "    \n",
    "    if df['Close'][0] > previous_upperband:\n",
    "        current_in_uptrend = True\n",
    "    elif df['Close'][0] < previous_lowerband:\n",
    "        current_in_uptrend = False\n",
    "    else:\n",
    "        current_in_uptrend = current_upperband\n",
    "\n"
   ]
  },
  {
   "cell_type": "code",
   "execution_count": 55,
   "metadata": {},
   "outputs": [
    {
     "data": {
      "text/html": [
       "<div>\n",
       "<style scoped>\n",
       "    .dataframe tbody tr th:only-of-type {\n",
       "        vertical-align: middle;\n",
       "    }\n",
       "\n",
       "    .dataframe tbody tr th {\n",
       "        vertical-align: top;\n",
       "    }\n",
       "\n",
       "    .dataframe thead th {\n",
       "        text-align: right;\n",
       "    }\n",
       "</style>\n",
       "<table border=\"1\" class=\"dataframe\">\n",
       "  <thead>\n",
       "    <tr style=\"text-align: right;\">\n",
       "      <th></th>\n",
       "      <th>open</th>\n",
       "      <th>high</th>\n",
       "      <th>low</th>\n",
       "      <th>close</th>\n",
       "      <th>volume</th>\n",
       "    </tr>\n",
       "    <tr>\n",
       "      <th>Date</th>\n",
       "      <th></th>\n",
       "      <th></th>\n",
       "      <th></th>\n",
       "      <th></th>\n",
       "      <th></th>\n",
       "    </tr>\n",
       "  </thead>\n",
       "  <tbody>\n",
       "    <tr>\n",
       "      <th>2022-07-15</th>\n",
       "      <td>720.000000</td>\n",
       "      <td>730.869995</td>\n",
       "      <td>710.669983</td>\n",
       "      <td>720.200012</td>\n",
       "      <td>23165500</td>\n",
       "    </tr>\n",
       "    <tr>\n",
       "      <th>2022-07-14</th>\n",
       "      <td>704.690002</td>\n",
       "      <td>715.960022</td>\n",
       "      <td>688.000000</td>\n",
       "      <td>714.940002</td>\n",
       "      <td>26185800</td>\n",
       "    </tr>\n",
       "    <tr>\n",
       "      <th>2022-07-13</th>\n",
       "      <td>676.500000</td>\n",
       "      <td>726.179993</td>\n",
       "      <td>675.099976</td>\n",
       "      <td>711.119995</td>\n",
       "      <td>32651500</td>\n",
       "    </tr>\n",
       "    <tr>\n",
       "      <th>2022-07-12</th>\n",
       "      <td>710.539978</td>\n",
       "      <td>719.320007</td>\n",
       "      <td>685.109985</td>\n",
       "      <td>699.210022</td>\n",
       "      <td>29310300</td>\n",
       "    </tr>\n",
       "    <tr>\n",
       "      <th>2022-07-11</th>\n",
       "      <td>756.309998</td>\n",
       "      <td>759.190002</td>\n",
       "      <td>700.880005</td>\n",
       "      <td>703.030029</td>\n",
       "      <td>33080400</td>\n",
       "    </tr>\n",
       "    <tr>\n",
       "      <th>...</th>\n",
       "      <td>...</td>\n",
       "      <td>...</td>\n",
       "      <td>...</td>\n",
       "      <td>...</td>\n",
       "      <td>...</td>\n",
       "    </tr>\n",
       "    <tr>\n",
       "      <th>2020-01-08</th>\n",
       "      <td>94.739998</td>\n",
       "      <td>99.697998</td>\n",
       "      <td>93.646004</td>\n",
       "      <td>98.428001</td>\n",
       "      <td>155721500</td>\n",
       "    </tr>\n",
       "    <tr>\n",
       "      <th>2020-01-07</th>\n",
       "      <td>92.279999</td>\n",
       "      <td>94.325996</td>\n",
       "      <td>90.671997</td>\n",
       "      <td>93.811996</td>\n",
       "      <td>89410500</td>\n",
       "    </tr>\n",
       "    <tr>\n",
       "      <th>2020-01-06</th>\n",
       "      <td>88.094002</td>\n",
       "      <td>90.311996</td>\n",
       "      <td>88.000000</td>\n",
       "      <td>90.307999</td>\n",
       "      <td>50665000</td>\n",
       "    </tr>\n",
       "    <tr>\n",
       "      <th>2020-01-03</th>\n",
       "      <td>88.099998</td>\n",
       "      <td>90.800003</td>\n",
       "      <td>87.384003</td>\n",
       "      <td>88.601997</td>\n",
       "      <td>88892500</td>\n",
       "    </tr>\n",
       "    <tr>\n",
       "      <th>2020-01-02</th>\n",
       "      <td>84.900002</td>\n",
       "      <td>86.139999</td>\n",
       "      <td>84.342003</td>\n",
       "      <td>86.052002</td>\n",
       "      <td>47660500</td>\n",
       "    </tr>\n",
       "  </tbody>\n",
       "</table>\n",
       "<p>639 rows × 5 columns</p>\n",
       "</div>"
      ],
      "text/plain": [
       "                  open        high         low       close     volume\n",
       "Date                                                                 \n",
       "2022-07-15  720.000000  730.869995  710.669983  720.200012   23165500\n",
       "2022-07-14  704.690002  715.960022  688.000000  714.940002   26185800\n",
       "2022-07-13  676.500000  726.179993  675.099976  711.119995   32651500\n",
       "2022-07-12  710.539978  719.320007  685.109985  699.210022   29310300\n",
       "2022-07-11  756.309998  759.190002  700.880005  703.030029   33080400\n",
       "...                ...         ...         ...         ...        ...\n",
       "2020-01-08   94.739998   99.697998   93.646004   98.428001  155721500\n",
       "2020-01-07   92.279999   94.325996   90.671997   93.811996   89410500\n",
       "2020-01-06   88.094002   90.311996   88.000000   90.307999   50665000\n",
       "2020-01-03   88.099998   90.800003   87.384003   88.601997   88892500\n",
       "2020-01-02   84.900002   86.139999   84.342003   86.052002   47660500\n",
       "\n",
       "[639 rows x 5 columns]"
      ]
     },
     "execution_count": 55,
     "metadata": {},
     "output_type": "execute_result"
    }
   ],
   "source": [
    "import pandas as pd\n",
    "df1 = pd.DataFrame()\n",
    "\n",
    "\n",
    "df1['open'] = df['Open']\n",
    "df1['high'] = df['High']\n",
    "df1['low'] = df['Low']\n",
    "df1['close'] = df['Close']\n",
    "df1['volume'] = df['Volume']\n",
    "\n",
    "df1\n"
   ]
  }
 ],
 "metadata": {
  "kernelspec": {
   "display_name": "Python 3.10.5 64-bit",
   "language": "python",
   "name": "python3"
  },
  "language_info": {
   "codemirror_mode": {
    "name": "ipython",
    "version": 3
   },
   "file_extension": ".py",
   "mimetype": "text/x-python",
   "name": "python",
   "nbconvert_exporter": "python",
   "pygments_lexer": "ipython3",
   "version": "3.10.5"
  },
  "orig_nbformat": 4,
  "vscode": {
   "interpreter": {
    "hash": "26de051ba29f2982a8de78e945f0abaf191376122a1563185a90213a26c5da77"
   }
  }
 },
 "nbformat": 4,
 "nbformat_minor": 2
}
