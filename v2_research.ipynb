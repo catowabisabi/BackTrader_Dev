{
 "cells": [
  {
   "cell_type": "code",
   "execution_count": 4,
   "metadata": {},
   "outputs": [],
   "source": [
    "import backtrader as bt\n",
    "import pandas as pd\n"
   ]
  },
  {
   "cell_type": "code",
   "execution_count": 11,
   "metadata": {},
   "outputs": [
    {
     "data": {
      "text/html": [
       "<div>\n",
       "<style scoped>\n",
       "    .dataframe tbody tr th:only-of-type {\n",
       "        vertical-align: middle;\n",
       "    }\n",
       "\n",
       "    .dataframe tbody tr th {\n",
       "        vertical-align: top;\n",
       "    }\n",
       "\n",
       "    .dataframe thead th {\n",
       "        text-align: right;\n",
       "    }\n",
       "</style>\n",
       "<table border=\"1\" class=\"dataframe\">\n",
       "  <thead>\n",
       "    <tr style=\"text-align: right;\">\n",
       "      <th></th>\n",
       "      <th>Date</th>\n",
       "      <th>Open</th>\n",
       "      <th>High</th>\n",
       "      <th>Low</th>\n",
       "      <th>Close</th>\n",
       "      <th>Adj Close</th>\n",
       "      <th>Volume</th>\n",
       "    </tr>\n",
       "  </thead>\n",
       "  <tbody>\n",
       "    <tr>\n",
       "      <th>246</th>\n",
       "      <td>2022-06-27</td>\n",
       "      <td>142.699997</td>\n",
       "      <td>143.490005</td>\n",
       "      <td>140.970001</td>\n",
       "      <td>141.660004</td>\n",
       "      <td>141.660004</td>\n",
       "      <td>70207900</td>\n",
       "    </tr>\n",
       "    <tr>\n",
       "      <th>247</th>\n",
       "      <td>2022-06-28</td>\n",
       "      <td>142.130005</td>\n",
       "      <td>143.419998</td>\n",
       "      <td>137.320007</td>\n",
       "      <td>137.440002</td>\n",
       "      <td>137.440002</td>\n",
       "      <td>67083400</td>\n",
       "    </tr>\n",
       "    <tr>\n",
       "      <th>248</th>\n",
       "      <td>2022-06-29</td>\n",
       "      <td>137.460007</td>\n",
       "      <td>140.669998</td>\n",
       "      <td>136.669998</td>\n",
       "      <td>139.229996</td>\n",
       "      <td>139.229996</td>\n",
       "      <td>66242400</td>\n",
       "    </tr>\n",
       "    <tr>\n",
       "      <th>249</th>\n",
       "      <td>2022-06-30</td>\n",
       "      <td>137.250000</td>\n",
       "      <td>138.369995</td>\n",
       "      <td>133.770004</td>\n",
       "      <td>136.720001</td>\n",
       "      <td>136.720001</td>\n",
       "      <td>98964500</td>\n",
       "    </tr>\n",
       "    <tr>\n",
       "      <th>250</th>\n",
       "      <td>2022-07-01</td>\n",
       "      <td>136.039993</td>\n",
       "      <td>139.039993</td>\n",
       "      <td>135.660004</td>\n",
       "      <td>138.929993</td>\n",
       "      <td>138.929993</td>\n",
       "      <td>71007500</td>\n",
       "    </tr>\n",
       "  </tbody>\n",
       "</table>\n",
       "</div>"
      ],
      "text/plain": [
       "           Date        Open        High         Low       Close   Adj Close  \\\n",
       "246  2022-06-27  142.699997  143.490005  140.970001  141.660004  141.660004   \n",
       "247  2022-06-28  142.130005  143.419998  137.320007  137.440002  137.440002   \n",
       "248  2022-06-29  137.460007  140.669998  136.669998  139.229996  139.229996   \n",
       "249  2022-06-30  137.250000  138.369995  133.770004  136.720001  136.720001   \n",
       "250  2022-07-01  136.039993  139.039993  135.660004  138.929993  138.929993   \n",
       "\n",
       "       Volume  \n",
       "246  70207900  \n",
       "247  67083400  \n",
       "248  66242400  \n",
       "249  98964500  \n",
       "250  71007500  "
      ]
     },
     "execution_count": 11,
     "metadata": {},
     "output_type": "execute_result"
    }
   ],
   "source": [
    "df = pd.read_csv('AAPL.csv')\n",
    "df.tail()"
   ]
  },
  {
   "cell_type": "code",
   "execution_count": 15,
   "metadata": {},
   "outputs": [
    {
     "data": {
      "text/plain": [
       "0    140.070007\n",
       "1    143.539993\n",
       "2    141.580002\n",
       "3    142.750000\n",
       "4    146.210007\n",
       "Name: Open, dtype: float64"
      ]
     },
     "execution_count": 15,
     "metadata": {},
     "output_type": "execute_result"
    }
   ],
   "source": [
    "open_price = df['Open']#開巿價\n",
    "open_price.head() "
   ]
  },
  {
   "cell_type": "code",
   "execution_count": null,
   "metadata": {},
   "outputs": [],
   "source": [
    "# 選擇方向?"
   ]
  },
  {
   "cell_type": "code",
   "execution_count": 16,
   "metadata": {},
   "outputs": [],
   "source": [
    "# 計算 ADX\n",
    "ADX_length = 15\n",
    "ADX_thershold= 14\n",
    "\n",
    "def calcADX(data, ADX_length):\n",
    "    increase_level = 5 # data['High'][0] - data['High'][-1] 上升量\n",
    "    decrease_level = 1 # data['Low'][-1] - data['Low'][0]  下降量\n",
    "    if increase_level > decrease_level and increase_level > 0:\n",
    "        DM_plus = increase_level\n",
    "    else:\n",
    "        DM_plus = 0 # 正DM\n",
    "    if decrease_level > increase_level and decrease_level > 0:\n",
    "        DM_minus = decrease_level\n",
    "    else:\n",
    "        DM_minus = 0 #負DM\n",
    "    \n",
    "    ATR = bt.indicators.ATR(data ,ADX_length) # 去拎datas[0]\n",
    "\n",
    "    _plus = 100 * bt.indicators.SmoothedMovingAverage(DM_plus, ADX_length)/ATR # 如果係NAN就拎最近既數唔識寫\n",
    "    _minus = 100 * bt.indicators.SmoothedMovingAverage(DM_minus, ADX_length)/ATR\n",
    "    sum = _plus + _minus\n",
    "    if sum == 0:\n",
    "        _adx = 100 * bt.indicators.SmoothedMovingAverage((abs(_plus - _minus) /  1), ADX_length)\n",
    "    else:\n",
    "        _adx = 100 * bt.indicators.SmoothedMovingAverage((abs(_plus - _minus) /  sum), ADX_length)\n",
    "    \n",
    "    results = [_plus, _minus, _adx]\n",
    "    return results\n",
    "\n",
    "\n"
   ]
  },
  {
   "cell_type": "code",
   "execution_count": null,
   "metadata": {},
   "outputs": [],
   "source": [
    "# 計算 ADX\n",
    "ADX_length = 15\n",
    "ADX_thershold= 14\n",
    "\n",
    "def calcADX(data, ADX_length):\n",
    "    increase_level = 5 # data['High'][0] - data['High'][-1] 上升量\n",
    "    decrease_level = 1 # data['Low'][-1] - data['Low'][0]  下降量\n",
    "    if increase_level > decrease_level and increase_level > 0:\n",
    "        DM_plus = increase_level\n",
    "    else:\n",
    "        DM_plus = 0 # 正DM\n",
    "    if decrease_level > increase_level and decrease_level > 0:\n",
    "        DM_minus = decrease_level\n",
    "    else:\n",
    "        DM_minus = 0 #負DM\n",
    "    \n",
    "    ATR = bt.indicators.ATR(data ,ADX_length) # 去拎datas[0]\n",
    "\n",
    "    # 正DI\n",
    "    DI_plus = 100 * bt.indicators.MovAv(DM_plus, ADX_length)/ATR # 如果係NAN就拎最近既數唔識寫\n",
    "    # 負DI\n",
    "    DI_minus = 100 * bt.indicators.MovAv(DM_minus, ADX_length)/ATR\n",
    "    \n",
    "    DI_sum = DI_plus + DI_minus\n",
    "    if DI_sum == 0:\n",
    "        DI_sum = 1\n",
    "    # ADX = 100 × (+DI − -DI)絕對值的 (平滑移動平均) ÷ (+DI + -DI)\n",
    "    _adx = 100 * (bt.indicators.SmoothedMovingAverage((abs(DI_plus - DI_minus)), ADX_length) /  sum)\n",
    "    \n",
    "    results = [DI_plus, DI_minus, _adx]\n",
    "    return results"
   ]
  },
  {
   "cell_type": "code",
   "execution_count": 17,
   "metadata": {},
   "outputs": [],
   "source": [
    "# ADX 在backtrader的計算\n",
    "\n",
    "# 計算 ADX\n",
    "ADX_length = 15\n",
    "ADX_thershold= 14\n",
    "\n",
    "ADX = bt.indicators.ADX\n",
    "DI_plus = bt.indicators.PlusDirectionalIndicator (PlusDI)"
   ]
  },
  {
   "cell_type": "code",
   "execution_count": null,
   "metadata": {},
   "outputs": [],
   "source": [
    "# 計算 Range Filter\n",
    "sampling_period = 51\n",
    "range_multiplier = 1.4\n"
   ]
  },
  {
   "cell_type": "code",
   "execution_count": null,
   "metadata": {},
   "outputs": [],
   "source": [
    "# 計算 volume\n",
    "volume_multiplier = 1.2\n",
    "volume_length = 26\n",
    "volume_multiplier_breakouts = 2.2\n",
    "volume_length_breakouts = 26\n",
    "\n",
    "# volume 超過 26日 平衡值1.2倍\n",
    "Volume_condt = data[0]['Volume'] > bt.indicators.sma(datas['Volume'], volume_length)*volume_multiplier\n",
    "\n",
    "# volume 超過 26日 平衡值1.2倍\n",
    "Volume_Breakouts_condt = data[0]['Volume'] > bt.indicators.sma(datas['Volume'], volume_length)*volume_multiplier"
   ]
  },
  {
   "cell_type": "code",
   "execution_count": 40,
   "metadata": {},
   "outputs": [
    {
     "data": {
      "text/plain": [
       "True"
      ]
     },
     "execution_count": 40,
     "metadata": {},
     "output_type": "execute_result"
    }
   ],
   "source": [
    "volume_multiplier = 2.2\n",
    "if (221 > 100*volume_multiplier):\n",
    "    Volume_Breakouts_condt = True\n",
    "else: \n",
    "    Volume_Breakouts_condt = False\n",
    "Volume_Breakouts_condt"
   ]
  },
  {
   "cell_type": "code",
   "execution_count": null,
   "metadata": {},
   "outputs": [],
   "source": [
    "# 計算MACD\n",
    "MACD_fast_length = 9\n",
    "MACD_slow_length = 13\n",
    "signal_length = 19"
   ]
  },
  {
   "cell_type": "code",
   "execution_count": null,
   "metadata": {},
   "outputs": [],
   "source": [
    "# 計算SAR 轉向指標\n",
    "SAR_start = 0.5\n",
    "SAR_int = 0.2 # 加速系數\n",
    "SAR_max = 0.3 # Extreme Point 極限點位\n"
   ]
  },
  {
   "cell_type": "code",
   "execution_count": null,
   "metadata": {},
   "outputs": [],
   "source": [
    "# 計算Cloud Ichimoku Cloud\n",
    "Cloud_length = 25"
   ]
  },
  {
   "cell_type": "code",
   "execution_count": null,
   "metadata": {},
   "outputs": [],
   "source": [
    "# 計算RSI\n",
    "RSI_length = 24\n",
    "RSI_source = df[\"Open\"]\n",
    "#df['lc']=df['close'].shift(1)\n",
    "\n",
    "rsi = bt.indicators.rsi(RSI_source, RSI_length)\n",
    "\n",
    "# 不要在起買區買入, 超買區買入不會有好價錢\n",
    "if rsi < 70:\n",
    "    rsi_long = True\n",
    "else:\n",
    "    rsi_long = False\n",
    "\n",
    "# 不要在起賣區賣出, 超賣區賣出不會有好價錢\n",
    "if rsi > 30:\n",
    "    rsi_short = True\n",
    "else: \n",
    "    rsi_short = False\n"
   ]
  },
  {
   "cell_type": "code",
   "execution_count": null,
   "metadata": {},
   "outputs": [],
   "source": [
    "# 計算Support and Resistance\n",
    "left = 6\n",
    "right = 8\n",
    "\n"
   ]
  },
  {
   "cell_type": "code",
   "execution_count": null,
   "metadata": {},
   "outputs": [],
   "source": [
    "# 計算BOLINGER BANDS\n",
    "BB_timeframe = \"\"\n",
    "BB_source = df[\"High\"]"
   ]
  },
  {
   "cell_type": "code",
   "execution_count": null,
   "metadata": {},
   "outputs": [],
   "source": [
    "# Scalping所使用的參數\n",
    "ACT_scalping = True # 開關, 未必用到\n",
    "scalping_lenght = 12 # HiLoLen\n",
    "EMA_length_fast = 10\n",
    "EMA_length_middle = 120\n",
    "EMA_length_slow = 500\n",
    "\n",
    "filter_BW = False # 唔知係乜\n",
    "pullback_lookback = 5\n",
    "use_Heikin_Ashi_Candles = True # Heikin Ashi"
   ]
  },
  {
   "cell_type": "code",
   "execution_count": null,
   "metadata": {},
   "outputs": [],
   "source": [
    "# 計算RMI\n",
    "RMI_length = 26\n",
    "RMI_momentum = 29\n",
    "RMI_oversell = 31\n",
    "RNI_overbought = 63"
   ]
  },
  {
   "cell_type": "code",
   "execution_count": null,
   "metadata": {},
   "outputs": [],
   "source": [
    "# 計算ATR\n",
    "pp_period = 12\n",
    "ATR_factor = 7\n",
    "ATR_Period = 2\n"
   ]
  }
 ],
 "metadata": {
  "kernelspec": {
   "display_name": "Python 3.10.5 64-bit",
   "language": "python",
   "name": "python3"
  },
  "language_info": {
   "codemirror_mode": {
    "name": "ipython",
    "version": 3
   },
   "file_extension": ".py",
   "mimetype": "text/x-python",
   "name": "python",
   "nbconvert_exporter": "python",
   "pygments_lexer": "ipython3",
   "version": "3.10.5"
  },
  "orig_nbformat": 4,
  "vscode": {
   "interpreter": {
    "hash": "26de051ba29f2982a8de78e945f0abaf191376122a1563185a90213a26c5da77"
   }
  }
 },
 "nbformat": 4,
 "nbformat_minor": 2
}
